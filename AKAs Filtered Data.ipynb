{
 "cells": [
  {
   "cell_type": "markdown",
   "id": "388124db",
   "metadata": {},
   "source": [
    "## Imports"
   ]
  },
  {
   "cell_type": "code",
   "execution_count": 1,
   "id": "5a42fd1b",
   "metadata": {},
   "outputs": [],
   "source": [
    "# Imports \n",
    "import os\n",
    "import pandas as pd\n",
    "import numpy as np"
   ]
  },
  {
   "cell_type": "markdown",
   "id": "47a3cde3",
   "metadata": {},
   "source": [
    "## Create Data Folder"
   ]
  },
  {
   "cell_type": "code",
   "execution_count": 2,
   "id": "7a582a32",
   "metadata": {},
   "outputs": [
    {
     "data": {
      "text/plain": [
       "['.ipynb_checkpoints',\n",
       " 'title-akas-us-only.csv',\n",
       " 'title.basics.tsv.gz',\n",
       " 'title.ratings.tsv.gz']"
      ]
     },
     "execution_count": 2,
     "metadata": {},
     "output_type": "execute_result"
    }
   ],
   "source": [
    "# Create 'Data' folder\n",
    "os.makedirs('Data/',exist_ok=True)\n",
    "os.listdir(\"Data/\")"
   ]
  },
  {
   "cell_type": "markdown",
   "id": "3e9c3ced",
   "metadata": {},
   "source": [
    "## Load Dataset"
   ]
  },
  {
   "cell_type": "code",
   "execution_count": 3,
   "id": "9e9628ae",
   "metadata": {},
   "outputs": [
    {
     "data": {
      "text/html": [
       "<div>\n",
       "<style scoped>\n",
       "    .dataframe tbody tr th:only-of-type {\n",
       "        vertical-align: middle;\n",
       "    }\n",
       "\n",
       "    .dataframe tbody tr th {\n",
       "        vertical-align: top;\n",
       "    }\n",
       "\n",
       "    .dataframe thead th {\n",
       "        text-align: right;\n",
       "    }\n",
       "</style>\n",
       "<table border=\"1\" class=\"dataframe\">\n",
       "  <thead>\n",
       "    <tr style=\"text-align: right;\">\n",
       "      <th></th>\n",
       "      <th>titleId</th>\n",
       "      <th>ordering</th>\n",
       "      <th>title</th>\n",
       "      <th>region</th>\n",
       "      <th>language</th>\n",
       "      <th>types</th>\n",
       "      <th>attributes</th>\n",
       "      <th>isOriginalTitle</th>\n",
       "    </tr>\n",
       "  </thead>\n",
       "  <tbody>\n",
       "    <tr>\n",
       "      <th>0</th>\n",
       "      <td>tt0000001</td>\n",
       "      <td>6</td>\n",
       "      <td>Carmencita</td>\n",
       "      <td>US</td>\n",
       "      <td>\\N</td>\n",
       "      <td>imdbDisplay</td>\n",
       "      <td>\\N</td>\n",
       "      <td>0</td>\n",
       "    </tr>\n",
       "    <tr>\n",
       "      <th>1</th>\n",
       "      <td>tt0000002</td>\n",
       "      <td>7</td>\n",
       "      <td>The Clown and His Dogs</td>\n",
       "      <td>US</td>\n",
       "      <td>\\N</td>\n",
       "      <td>\\N</td>\n",
       "      <td>literal English title</td>\n",
       "      <td>0</td>\n",
       "    </tr>\n",
       "    <tr>\n",
       "      <th>2</th>\n",
       "      <td>tt0000005</td>\n",
       "      <td>10</td>\n",
       "      <td>Blacksmith Scene</td>\n",
       "      <td>US</td>\n",
       "      <td>\\N</td>\n",
       "      <td>imdbDisplay</td>\n",
       "      <td>\\N</td>\n",
       "      <td>0</td>\n",
       "    </tr>\n",
       "    <tr>\n",
       "      <th>3</th>\n",
       "      <td>tt0000005</td>\n",
       "      <td>1</td>\n",
       "      <td>Blacksmithing Scene</td>\n",
       "      <td>US</td>\n",
       "      <td>\\N</td>\n",
       "      <td>alternative</td>\n",
       "      <td>\\N</td>\n",
       "      <td>0</td>\n",
       "    </tr>\n",
       "    <tr>\n",
       "      <th>4</th>\n",
       "      <td>tt0000005</td>\n",
       "      <td>6</td>\n",
       "      <td>Blacksmith Scene #1</td>\n",
       "      <td>US</td>\n",
       "      <td>\\N</td>\n",
       "      <td>alternative</td>\n",
       "      <td>\\N</td>\n",
       "      <td>0</td>\n",
       "    </tr>\n",
       "  </tbody>\n",
       "</table>\n",
       "</div>"
      ],
      "text/plain": [
       "     titleId  ordering                   title region language        types  \\\n",
       "0  tt0000001         6              Carmencita     US       \\N  imdbDisplay   \n",
       "1  tt0000002         7  The Clown and His Dogs     US       \\N           \\N   \n",
       "2  tt0000005        10        Blacksmith Scene     US       \\N  imdbDisplay   \n",
       "3  tt0000005         1     Blacksmithing Scene     US       \\N  alternative   \n",
       "4  tt0000005         6     Blacksmith Scene #1     US       \\N  alternative   \n",
       "\n",
       "              attributes isOriginalTitle  \n",
       "0                     \\N               0  \n",
       "1  literal English title               0  \n",
       "2                     \\N               0  \n",
       "3                     \\N               0  \n",
       "4                     \\N               0  "
      ]
     },
     "execution_count": 3,
     "metadata": {},
     "output_type": "execute_result"
    }
   ],
   "source": [
    "# Load first dataset\n",
    "akas = pd.read_csv('Data/title-akas-us-only.csv', low_memory=False)\n",
    "akas.head()"
   ]
  },
  {
   "cell_type": "code",
   "execution_count": 4,
   "id": "28a4a331",
   "metadata": {},
   "outputs": [
    {
     "name": "stdout",
     "output_type": "stream",
     "text": [
      "<class 'pandas.core.frame.DataFrame'>\n",
      "RangeIndex: 1452564 entries, 0 to 1452563\n",
      "Data columns (total 8 columns):\n",
      " #   Column           Non-Null Count    Dtype \n",
      "---  ------           --------------    ----- \n",
      " 0   titleId          1452564 non-null  object\n",
      " 1   ordering         1452564 non-null  int64 \n",
      " 2   title            1452564 non-null  object\n",
      " 3   region           1452564 non-null  object\n",
      " 4   language         1452564 non-null  object\n",
      " 5   types            1452564 non-null  object\n",
      " 6   attributes       1452564 non-null  object\n",
      " 7   isOriginalTitle  1452564 non-null  object\n",
      "dtypes: int64(1), object(7)\n",
      "memory usage: 88.7+ MB\n"
     ]
    }
   ],
   "source": [
    "# Load datatypes\n",
    "akas.info()"
   ]
  },
  {
   "cell_type": "markdown",
   "id": "c163dd1c",
   "metadata": {},
   "source": [
    "## Filtering/Cleaning Steps:\n",
    "- AKAs:\n",
    " - keep only US movies.\n",
    " - Replace \"\\N\" with np.nan"
   ]
  },
  {
   "cell_type": "code",
   "execution_count": 5,
   "id": "4cb77f37",
   "metadata": {},
   "outputs": [],
   "source": [
    "# Keep only US movies.\n",
    "# AKAs US only file already uploaded."
   ]
  },
  {
   "cell_type": "code",
   "execution_count": 6,
   "id": "61ac0725",
   "metadata": {},
   "outputs": [],
   "source": [
    "# Replace \"\\N\" with np.nan\n",
    "akas.replace({'\\\\N':np.nan}, inplace=True)"
   ]
  },
  {
   "cell_type": "code",
   "execution_count": 7,
   "id": "e66c11d2",
   "metadata": {},
   "outputs": [
    {
     "data": {
      "text/html": [
       "<div>\n",
       "<style scoped>\n",
       "    .dataframe tbody tr th:only-of-type {\n",
       "        vertical-align: middle;\n",
       "    }\n",
       "\n",
       "    .dataframe tbody tr th {\n",
       "        vertical-align: top;\n",
       "    }\n",
       "\n",
       "    .dataframe thead th {\n",
       "        text-align: right;\n",
       "    }\n",
       "</style>\n",
       "<table border=\"1\" class=\"dataframe\">\n",
       "  <thead>\n",
       "    <tr style=\"text-align: right;\">\n",
       "      <th></th>\n",
       "      <th>titleId</th>\n",
       "      <th>ordering</th>\n",
       "      <th>title</th>\n",
       "      <th>region</th>\n",
       "      <th>language</th>\n",
       "      <th>types</th>\n",
       "      <th>attributes</th>\n",
       "      <th>isOriginalTitle</th>\n",
       "    </tr>\n",
       "  </thead>\n",
       "  <tbody>\n",
       "    <tr>\n",
       "      <th>0</th>\n",
       "      <td>tt0000001</td>\n",
       "      <td>6</td>\n",
       "      <td>Carmencita</td>\n",
       "      <td>US</td>\n",
       "      <td>NaN</td>\n",
       "      <td>imdbDisplay</td>\n",
       "      <td>NaN</td>\n",
       "      <td>0</td>\n",
       "    </tr>\n",
       "    <tr>\n",
       "      <th>1</th>\n",
       "      <td>tt0000002</td>\n",
       "      <td>7</td>\n",
       "      <td>The Clown and His Dogs</td>\n",
       "      <td>US</td>\n",
       "      <td>NaN</td>\n",
       "      <td>NaN</td>\n",
       "      <td>literal English title</td>\n",
       "      <td>0</td>\n",
       "    </tr>\n",
       "    <tr>\n",
       "      <th>2</th>\n",
       "      <td>tt0000005</td>\n",
       "      <td>10</td>\n",
       "      <td>Blacksmith Scene</td>\n",
       "      <td>US</td>\n",
       "      <td>NaN</td>\n",
       "      <td>imdbDisplay</td>\n",
       "      <td>NaN</td>\n",
       "      <td>0</td>\n",
       "    </tr>\n",
       "    <tr>\n",
       "      <th>3</th>\n",
       "      <td>tt0000005</td>\n",
       "      <td>1</td>\n",
       "      <td>Blacksmithing Scene</td>\n",
       "      <td>US</td>\n",
       "      <td>NaN</td>\n",
       "      <td>alternative</td>\n",
       "      <td>NaN</td>\n",
       "      <td>0</td>\n",
       "    </tr>\n",
       "    <tr>\n",
       "      <th>4</th>\n",
       "      <td>tt0000005</td>\n",
       "      <td>6</td>\n",
       "      <td>Blacksmith Scene #1</td>\n",
       "      <td>US</td>\n",
       "      <td>NaN</td>\n",
       "      <td>alternative</td>\n",
       "      <td>NaN</td>\n",
       "      <td>0</td>\n",
       "    </tr>\n",
       "  </tbody>\n",
       "</table>\n",
       "</div>"
      ],
      "text/plain": [
       "     titleId  ordering                   title region language        types  \\\n",
       "0  tt0000001         6              Carmencita     US      NaN  imdbDisplay   \n",
       "1  tt0000002         7  The Clown and His Dogs     US      NaN          NaN   \n",
       "2  tt0000005        10        Blacksmith Scene     US      NaN  imdbDisplay   \n",
       "3  tt0000005         1     Blacksmithing Scene     US      NaN  alternative   \n",
       "4  tt0000005         6     Blacksmith Scene #1     US      NaN  alternative   \n",
       "\n",
       "              attributes isOriginalTitle  \n",
       "0                    NaN               0  \n",
       "1  literal English title               0  \n",
       "2                    NaN               0  \n",
       "3                    NaN               0  \n",
       "4                    NaN               0  "
      ]
     },
     "execution_count": 7,
     "metadata": {},
     "output_type": "execute_result"
    }
   ],
   "source": [
    "# Confirm changes made are permanent\n",
    "akas.head()"
   ]
  },
  {
   "cell_type": "code",
   "execution_count": 8,
   "id": "1ab77e66",
   "metadata": {},
   "outputs": [],
   "source": [
    "# Save current dataframe to file.\n",
    "akas.to_csv(\"Data/title_akas.csv.gz\", compression='gzip', index=False)"
   ]
  },
  {
   "attachments": {
    "blue_square_1-5bdc75aaebeb75dc7ae79426ddd9be3b2be1e342510f8202baf6bffa71d7f5c4.svg": {
     "image/svg+xml": [
      "PHN2ZyB4bWxucz0iaHR0cDovL3d3dy53My5vcmcvMjAwMC9zdmciIHhtbG5zOnhsaW5rPSJodHRwOi8vd3d3LnczLm9yZy8xOTk5L3hsaW5rIiB2aWV3Qm94PSIwIDAgMTkwLjI0IDgxLjUyIj48ZGVmcz48c3R5bGU+LmNscy0xe2ZpbGw6dXJsKCNsaW5lYXItZ3JhZGllbnQpO308L3N0eWxlPjxsaW5lYXJHcmFkaWVudCBpZD0ibGluZWFyLWdyYWRpZW50IiB5MT0iNDAuNzYiIHgyPSIxOTAuMjQiIHkyPSI0MC43NiIgZ3JhZGllbnRVbml0cz0idXNlclNwYWNlT25Vc2UiPjxzdG9wIG9mZnNldD0iMCIgc3RvcC1jb2xvcj0iIzkwY2VhMSIvPjxzdG9wIG9mZnNldD0iMC41NiIgc3RvcC1jb2xvcj0iIzNjYmVjOSIvPjxzdG9wIG9mZnNldD0iMSIgc3RvcC1jb2xvcj0iIzAwYjNlNSIvPjwvbGluZWFyR3JhZGllbnQ+PC9kZWZzPjx0aXRsZT5Bc3NldCAyPC90aXRsZT48ZyBpZD0iTGF5ZXJfMiIgZGF0YS1uYW1lPSJMYXllciAyIj48ZyBpZD0iTGF5ZXJfMS0yIiBkYXRhLW5hbWU9IkxheWVyIDEiPjxwYXRoIGNsYXNzPSJjbHMtMSIgZD0iTTEwNS42NywzNi4wNmg2Ni45QTE3LjY3LDE3LjY3LDAsMCwwLDE5MC4yNCwxOC40aDBBMTcuNjcsMTcuNjcsMCwwLDAsMTcyLjU3LjczaC02Ni45QTE3LjY3LDE3LjY3LDAsMCwwLDg4LDE4LjRoMEExNy42NywxNy42NywwLDAsMCwxMDUuNjcsMzYuMDZabS04OCw0NWg3Ni45QTE3LjY3LDE3LjY3LDAsMCwwLDExMi4yNCw2My40aDBBMTcuNjcsMTcuNjcsMCwwLDAsOTQuNTcsNDUuNzNIMTcuNjdBMTcuNjcsMTcuNjcsMCwwLDAsMCw2My40SDBBMTcuNjcsMTcuNjcsMCwwLDAsMTcuNjcsODEuMDZaTTEwLjQxLDM1LjQyaDcuOFY2LjkyaDEwLjFWMEguMzF2Ni45aDEwLjFabTI4LjEsMGg3LjhWOC4yNWguMWw5LDI3LjE1aDZsOS4zLTI3LjE1aC4xVjM1LjRoNy44VjBINjYuNzZsLTguMiwyMy4xaC0uMUw1MC4zMSwwSDM4LjUxWk0xNTIuNDMsNTUuNjdhMTUuMDcsMTUuMDcsMCwwLDAtNC41Mi01LjUyLDE4LjU3LDE4LjU3LDAsMCwwLTYuNjgtMy4wOCwzMy41NCwzMy41NCwwLDAsMC04LjA3LTFoLTExLjd2MzUuNGgxMi43NWEyNC41OCwyNC41OCwwLDAsMCw3LjU1LTEuMTVBMTkuMzQsMTkuMzQsMCwwLDAsMTQ4LjExLDc3YTE2LjI3LDE2LjI3LDAsMCwwLDQuMzctNS41LDE2LjkxLDE2LjkxLDAsMCwwLDEuNjMtNy41OEExOC41LDE4LjUsMCwwLDAsMTUyLjQzLDU1LjY3Wk0xNDUsNjguNkE4LjgsOC44LDAsMCwxLDE0Mi4zNiw3MmExMC43LDEwLjcsMCwwLDEtNCwxLjgyLDIxLjU3LDIxLjU3LDAsMCwxLTUsLjU1aC00LjA1di0yMWg0LjZhMTcsMTcsMCwwLDEsNC42Ny42MywxMS42NiwxMS42NiwwLDAsMSwzLjg4LDEuODdBOS4xNCw5LjE0LDAsMCwxLDE0NSw1OWE5Ljg3LDkuODcsMCwwLDEsMSw0LjUyQTExLjg5LDExLjg5LDAsMCwxLDE0NSw2OC42Wm00NC42My0uMTNhOCw4LDAsMCwwLTEuNTgtMi42MkE4LjM4LDguMzgsMCwwLDAsMTg1LjYzLDY0YTEwLjMxLDEwLjMxLDAsMCwwLTMuMTctMXYtLjFhOS4yMiw5LjIyLDAsMCwwLDQuNDItMi44Miw3LjQzLDcuNDMsMCwwLDAsMS42OC01LDguNDIsOC40MiwwLDAsMC0xLjE1LTQuNjUsOC4wOSw4LjA5LDAsMCwwLTMtMi43MiwxMi41NiwxMi41NiwwLDAsMC00LjE4LTEuMywzMi44NCwzMi44NCwwLDAsMC00LjYyLS4zM2gtMTMuMnYzNS40aDE0LjVhMjIuNDEsMjIuNDEsMCwwLDAsNC43Mi0uNSwxMy41MywxMy41MywwLDAsMCw0LjI4LTEuNjUsOS40Miw5LjQyLDAsMCwwLDMuMS0zLDguNTIsOC41MiwwLDAsMCwxLjItNC42OEE5LjM5LDkuMzksMCwwLDAsMTg5LjY2LDY4LjQ3Wk0xNzAuMjEsNTIuNzJoNS4zYTEwLDEwLDAsMCwxLDEuODUuMTgsNi4xOCw2LjE4LDAsMCwxLDEuNy41NywzLjM5LDMuMzksMCwwLDEsMS4yMiwxLjEzLDMuMjIsMy4yMiwwLDAsMSwuNDgsMS44MiwzLjYzLDMuNjMsMCwwLDEtLjQzLDEuOCwzLjQsMy40LDAsMCwxLTEuMTIsMS4yLDQuOTIsNC45MiwwLDAsMS0xLjU4LjY1LDcuNTEsNy41MSwwLDAsMS0xLjc3LjJoLTUuNjVabTExLjcyLDIwYTMuOSwzLjksMCwwLDEtMS4yMiwxLjMsNC42NCw0LjY0LDAsMCwxLTEuNjguNyw4LjE4LDguMTgsMCwwLDEtMS44Mi4yaC03di04aDUuOWExNS4zNSwxNS4zNSwwLDAsMSwyLC4xNSw4LjQ3LDguNDcsMCwwLDEsMi4wNS41NSw0LDQsMCwwLDEsMS41NywxLjE4LDMuMTEsMy4xMSwwLDAsMSwuNjMsMkEzLjcxLDMuNzEsMCwwLDEsMTgxLjkzLDcyLjcyWiIvPjwvZz48L2c+PC9zdmc+"
     ]
    }
   },
   "cell_type": "markdown",
   "id": "85671dd6",
   "metadata": {},
   "source": [
    "### IMDB Data Sources:\n",
    "- Downloads Page - https://developer.imdb.com/non-commercial-datasets/\n",
    "- Data Dictionary - https://developer.imdb.com/non-commercial-datasets/\n",
    "- IMDB Logo - https://www.themoviedb.org/about/logos-attribution\n",
    "\n",
    "![blue_square_1-5bdc75aaebeb75dc7ae79426ddd9be3b2be1e342510f8202baf6bffa71d7f5c4.svg](attachment:blue_square_1-5bdc75aaebeb75dc7ae79426ddd9be3b2be1e342510f8202baf6bffa71d7f5c4.svg)"
   ]
  }
 ],
 "metadata": {
  "kernelspec": {
   "display_name": "Python 3 (ipykernel)",
   "language": "python",
   "name": "python3"
  },
  "language_info": {
   "codemirror_mode": {
    "name": "ipython",
    "version": 3
   },
   "file_extension": ".py",
   "mimetype": "text/x-python",
   "name": "python",
   "nbconvert_exporter": "python",
   "pygments_lexer": "ipython3",
   "version": "3.9.15"
  },
  "toc": {
   "base_numbering": 1,
   "nav_menu": {},
   "number_sections": false,
   "sideBar": true,
   "skip_h1_title": false,
   "title_cell": "Table of Contents",
   "title_sidebar": "Contents",
   "toc_cell": false,
   "toc_position": {},
   "toc_section_display": true,
   "toc_window_display": false
  }
 },
 "nbformat": 4,
 "nbformat_minor": 5
}
