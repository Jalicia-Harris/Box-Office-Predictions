{
 "cells": [
  {
   "cell_type": "markdown",
   "id": "1336b1d6",
   "metadata": {},
   "source": [
    "# Preliminary Steps:"
   ]
  },
  {
   "cell_type": "markdown",
   "id": "388124db",
   "metadata": {},
   "source": [
    "### Imports"
   ]
  },
  {
   "cell_type": "code",
   "execution_count": 1,
   "id": "5a42fd1b",
   "metadata": {},
   "outputs": [],
   "source": [
    "# Imports \n",
    "import os\n",
    "import pandas as pd\n",
    "import numpy as np"
   ]
  },
  {
   "cell_type": "markdown",
   "id": "47a3cde3",
   "metadata": {},
   "source": [
    "### Create Data Folder"
   ]
  },
  {
   "cell_type": "code",
   "execution_count": 2,
   "id": "7a582a32",
   "metadata": {},
   "outputs": [
    {
     "data": {
      "text/plain": [
       "['.ipynb_checkpoints',\n",
       " 'title-akas-us-only.csv',\n",
       " 'title.basics.tsv.gz',\n",
       " 'title.ratings.tsv.gz']"
      ]
     },
     "execution_count": 2,
     "metadata": {},
     "output_type": "execute_result"
    }
   ],
   "source": [
    "# Create 'Data' folder\n",
    "os.makedirs('Data/',exist_ok=True)\n",
    "os.listdir(\"Data/\")"
   ]
  },
  {
   "cell_type": "markdown",
   "id": "3e9c3ced",
   "metadata": {},
   "source": [
    "## Load Datasets"
   ]
  },
  {
   "cell_type": "code",
   "execution_count": 3,
   "id": "9e9628ae",
   "metadata": {},
   "outputs": [
    {
     "data": {
      "text/html": [
       "<div>\n",
       "<style scoped>\n",
       "    .dataframe tbody tr th:only-of-type {\n",
       "        vertical-align: middle;\n",
       "    }\n",
       "\n",
       "    .dataframe tbody tr th {\n",
       "        vertical-align: top;\n",
       "    }\n",
       "\n",
       "    .dataframe thead th {\n",
       "        text-align: right;\n",
       "    }\n",
       "</style>\n",
       "<table border=\"1\" class=\"dataframe\">\n",
       "  <thead>\n",
       "    <tr style=\"text-align: right;\">\n",
       "      <th></th>\n",
       "      <th>titleId</th>\n",
       "      <th>ordering</th>\n",
       "      <th>title</th>\n",
       "      <th>region</th>\n",
       "      <th>language</th>\n",
       "      <th>types</th>\n",
       "      <th>attributes</th>\n",
       "      <th>isOriginalTitle</th>\n",
       "    </tr>\n",
       "  </thead>\n",
       "  <tbody>\n",
       "    <tr>\n",
       "      <th>0</th>\n",
       "      <td>tt0000001</td>\n",
       "      <td>6</td>\n",
       "      <td>Carmencita</td>\n",
       "      <td>US</td>\n",
       "      <td>\\N</td>\n",
       "      <td>imdbDisplay</td>\n",
       "      <td>\\N</td>\n",
       "      <td>0</td>\n",
       "    </tr>\n",
       "    <tr>\n",
       "      <th>1</th>\n",
       "      <td>tt0000002</td>\n",
       "      <td>7</td>\n",
       "      <td>The Clown and His Dogs</td>\n",
       "      <td>US</td>\n",
       "      <td>\\N</td>\n",
       "      <td>\\N</td>\n",
       "      <td>literal English title</td>\n",
       "      <td>0</td>\n",
       "    </tr>\n",
       "    <tr>\n",
       "      <th>2</th>\n",
       "      <td>tt0000005</td>\n",
       "      <td>10</td>\n",
       "      <td>Blacksmith Scene</td>\n",
       "      <td>US</td>\n",
       "      <td>\\N</td>\n",
       "      <td>imdbDisplay</td>\n",
       "      <td>\\N</td>\n",
       "      <td>0</td>\n",
       "    </tr>\n",
       "    <tr>\n",
       "      <th>3</th>\n",
       "      <td>tt0000005</td>\n",
       "      <td>1</td>\n",
       "      <td>Blacksmithing Scene</td>\n",
       "      <td>US</td>\n",
       "      <td>\\N</td>\n",
       "      <td>alternative</td>\n",
       "      <td>\\N</td>\n",
       "      <td>0</td>\n",
       "    </tr>\n",
       "    <tr>\n",
       "      <th>4</th>\n",
       "      <td>tt0000005</td>\n",
       "      <td>6</td>\n",
       "      <td>Blacksmith Scene #1</td>\n",
       "      <td>US</td>\n",
       "      <td>\\N</td>\n",
       "      <td>alternative</td>\n",
       "      <td>\\N</td>\n",
       "      <td>0</td>\n",
       "    </tr>\n",
       "  </tbody>\n",
       "</table>\n",
       "</div>"
      ],
      "text/plain": [
       "     titleId  ordering                   title region language        types  \\\n",
       "0  tt0000001         6              Carmencita     US       \\N  imdbDisplay   \n",
       "1  tt0000002         7  The Clown and His Dogs     US       \\N           \\N   \n",
       "2  tt0000005        10        Blacksmith Scene     US       \\N  imdbDisplay   \n",
       "3  tt0000005         1     Blacksmithing Scene     US       \\N  alternative   \n",
       "4  tt0000005         6     Blacksmith Scene #1     US       \\N  alternative   \n",
       "\n",
       "              attributes isOriginalTitle  \n",
       "0                     \\N               0  \n",
       "1  literal English title               0  \n",
       "2                     \\N               0  \n",
       "3                     \\N               0  \n",
       "4                     \\N               0  "
      ]
     },
     "execution_count": 3,
     "metadata": {},
     "output_type": "execute_result"
    }
   ],
   "source": [
    "# Load 'akas' dataset\n",
    "akas = pd.read_csv('Data/title-akas-us-only.csv', low_memory=False)\n",
    "akas.head()"
   ]
  },
  {
   "cell_type": "code",
   "execution_count": 4,
   "id": "4b943937",
   "metadata": {},
   "outputs": [
    {
     "data": {
      "text/html": [
       "<div>\n",
       "<style scoped>\n",
       "    .dataframe tbody tr th:only-of-type {\n",
       "        vertical-align: middle;\n",
       "    }\n",
       "\n",
       "    .dataframe tbody tr th {\n",
       "        vertical-align: top;\n",
       "    }\n",
       "\n",
       "    .dataframe thead th {\n",
       "        text-align: right;\n",
       "    }\n",
       "</style>\n",
       "<table border=\"1\" class=\"dataframe\">\n",
       "  <thead>\n",
       "    <tr style=\"text-align: right;\">\n",
       "      <th></th>\n",
       "      <th>tconst</th>\n",
       "      <th>titleType</th>\n",
       "      <th>primaryTitle</th>\n",
       "      <th>originalTitle</th>\n",
       "      <th>isAdult</th>\n",
       "      <th>startYear</th>\n",
       "      <th>endYear</th>\n",
       "      <th>runtimeMinutes</th>\n",
       "      <th>genres</th>\n",
       "    </tr>\n",
       "  </thead>\n",
       "  <tbody>\n",
       "    <tr>\n",
       "      <th>0</th>\n",
       "      <td>tt0000001</td>\n",
       "      <td>short</td>\n",
       "      <td>Carmencita</td>\n",
       "      <td>Carmencita</td>\n",
       "      <td>0</td>\n",
       "      <td>1894</td>\n",
       "      <td>\\N</td>\n",
       "      <td>1</td>\n",
       "      <td>Documentary,Short</td>\n",
       "    </tr>\n",
       "    <tr>\n",
       "      <th>1</th>\n",
       "      <td>tt0000002</td>\n",
       "      <td>short</td>\n",
       "      <td>Le clown et ses chiens</td>\n",
       "      <td>Le clown et ses chiens</td>\n",
       "      <td>0</td>\n",
       "      <td>1892</td>\n",
       "      <td>\\N</td>\n",
       "      <td>5</td>\n",
       "      <td>Animation,Short</td>\n",
       "    </tr>\n",
       "    <tr>\n",
       "      <th>2</th>\n",
       "      <td>tt0000003</td>\n",
       "      <td>short</td>\n",
       "      <td>Pauvre Pierrot</td>\n",
       "      <td>Pauvre Pierrot</td>\n",
       "      <td>0</td>\n",
       "      <td>1892</td>\n",
       "      <td>\\N</td>\n",
       "      <td>4</td>\n",
       "      <td>Animation,Comedy,Romance</td>\n",
       "    </tr>\n",
       "    <tr>\n",
       "      <th>3</th>\n",
       "      <td>tt0000004</td>\n",
       "      <td>short</td>\n",
       "      <td>Un bon bock</td>\n",
       "      <td>Un bon bock</td>\n",
       "      <td>0</td>\n",
       "      <td>1892</td>\n",
       "      <td>\\N</td>\n",
       "      <td>12</td>\n",
       "      <td>Animation,Short</td>\n",
       "    </tr>\n",
       "    <tr>\n",
       "      <th>4</th>\n",
       "      <td>tt0000005</td>\n",
       "      <td>short</td>\n",
       "      <td>Blacksmith Scene</td>\n",
       "      <td>Blacksmith Scene</td>\n",
       "      <td>0</td>\n",
       "      <td>1893</td>\n",
       "      <td>\\N</td>\n",
       "      <td>1</td>\n",
       "      <td>Comedy,Short</td>\n",
       "    </tr>\n",
       "  </tbody>\n",
       "</table>\n",
       "</div>"
      ],
      "text/plain": [
       "      tconst titleType            primaryTitle           originalTitle  \\\n",
       "0  tt0000001     short              Carmencita              Carmencita   \n",
       "1  tt0000002     short  Le clown et ses chiens  Le clown et ses chiens   \n",
       "2  tt0000003     short          Pauvre Pierrot          Pauvre Pierrot   \n",
       "3  tt0000004     short             Un bon bock             Un bon bock   \n",
       "4  tt0000005     short        Blacksmith Scene        Blacksmith Scene   \n",
       "\n",
       "  isAdult startYear endYear runtimeMinutes                    genres  \n",
       "0       0      1894      \\N              1         Documentary,Short  \n",
       "1       0      1892      \\N              5           Animation,Short  \n",
       "2       0      1892      \\N              4  Animation,Comedy,Romance  \n",
       "3       0      1892      \\N             12           Animation,Short  \n",
       "4       0      1893      \\N              1              Comedy,Short  "
      ]
     },
     "execution_count": 4,
     "metadata": {},
     "output_type": "execute_result"
    }
   ],
   "source": [
    "# Load 'basics' dataset\n",
    "basics = pd.read_csv('Data/title.basics.tsv.gz',sep='\\t', low_memory=False)\n",
    "basics.head()"
   ]
  },
  {
   "cell_type": "code",
   "execution_count": 5,
   "id": "75e2a6e0",
   "metadata": {},
   "outputs": [
    {
     "data": {
      "text/html": [
       "<div>\n",
       "<style scoped>\n",
       "    .dataframe tbody tr th:only-of-type {\n",
       "        vertical-align: middle;\n",
       "    }\n",
       "\n",
       "    .dataframe tbody tr th {\n",
       "        vertical-align: top;\n",
       "    }\n",
       "\n",
       "    .dataframe thead th {\n",
       "        text-align: right;\n",
       "    }\n",
       "</style>\n",
       "<table border=\"1\" class=\"dataframe\">\n",
       "  <thead>\n",
       "    <tr style=\"text-align: right;\">\n",
       "      <th></th>\n",
       "      <th>tconst</th>\n",
       "      <th>averageRating</th>\n",
       "      <th>numVotes</th>\n",
       "    </tr>\n",
       "  </thead>\n",
       "  <tbody>\n",
       "    <tr>\n",
       "      <th>0</th>\n",
       "      <td>tt0000001</td>\n",
       "      <td>5.7</td>\n",
       "      <td>1989</td>\n",
       "    </tr>\n",
       "    <tr>\n",
       "      <th>1</th>\n",
       "      <td>tt0000002</td>\n",
       "      <td>5.8</td>\n",
       "      <td>265</td>\n",
       "    </tr>\n",
       "    <tr>\n",
       "      <th>2</th>\n",
       "      <td>tt0000003</td>\n",
       "      <td>6.5</td>\n",
       "      <td>1850</td>\n",
       "    </tr>\n",
       "    <tr>\n",
       "      <th>3</th>\n",
       "      <td>tt0000004</td>\n",
       "      <td>5.5</td>\n",
       "      <td>178</td>\n",
       "    </tr>\n",
       "    <tr>\n",
       "      <th>4</th>\n",
       "      <td>tt0000005</td>\n",
       "      <td>6.2</td>\n",
       "      <td>2635</td>\n",
       "    </tr>\n",
       "  </tbody>\n",
       "</table>\n",
       "</div>"
      ],
      "text/plain": [
       "      tconst  averageRating  numVotes\n",
       "0  tt0000001            5.7      1989\n",
       "1  tt0000002            5.8       265\n",
       "2  tt0000003            6.5      1850\n",
       "3  tt0000004            5.5       178\n",
       "4  tt0000005            6.2      2635"
      ]
     },
     "execution_count": 5,
     "metadata": {},
     "output_type": "execute_result"
    }
   ],
   "source": [
    "# Load 'ratings' dataset\n",
    "ratings = pd.read_csv('Data/title.ratings.tsv.gz', sep='\\t', low_memory=False)\n",
    "ratings.head()"
   ]
  },
  {
   "cell_type": "markdown",
   "id": "c163dd1c",
   "metadata": {},
   "source": [
    "## Filtering/Cleaning Steps:"
   ]
  },
  {
   "cell_type": "markdown",
   "id": "df2d051d",
   "metadata": {},
   "source": [
    "### AKAs:\n",
    "\n",
    "- keep only US movies.\n",
    "- Replace \"\\N\" with np.nan"
   ]
  },
  {
   "cell_type": "code",
   "execution_count": 6,
   "id": "4cb77f37",
   "metadata": {},
   "outputs": [],
   "source": [
    "# Keep only US movies.\n",
    "# AKAs US only file already uploaded."
   ]
  },
  {
   "cell_type": "code",
   "execution_count": 7,
   "id": "61ac0725",
   "metadata": {},
   "outputs": [],
   "source": [
    "# Replace \"\\N\" with np.nan\n",
    "akas.replace({'\\\\N':np.nan}, inplace=True)"
   ]
  },
  {
   "cell_type": "code",
   "execution_count": 8,
   "id": "e66c11d2",
   "metadata": {
    "scrolled": true
   },
   "outputs": [
    {
     "data": {
      "text/html": [
       "<div>\n",
       "<style scoped>\n",
       "    .dataframe tbody tr th:only-of-type {\n",
       "        vertical-align: middle;\n",
       "    }\n",
       "\n",
       "    .dataframe tbody tr th {\n",
       "        vertical-align: top;\n",
       "    }\n",
       "\n",
       "    .dataframe thead th {\n",
       "        text-align: right;\n",
       "    }\n",
       "</style>\n",
       "<table border=\"1\" class=\"dataframe\">\n",
       "  <thead>\n",
       "    <tr style=\"text-align: right;\">\n",
       "      <th></th>\n",
       "      <th>titleId</th>\n",
       "      <th>ordering</th>\n",
       "      <th>title</th>\n",
       "      <th>region</th>\n",
       "      <th>language</th>\n",
       "      <th>types</th>\n",
       "      <th>attributes</th>\n",
       "      <th>isOriginalTitle</th>\n",
       "    </tr>\n",
       "  </thead>\n",
       "  <tbody>\n",
       "    <tr>\n",
       "      <th>0</th>\n",
       "      <td>tt0000001</td>\n",
       "      <td>6</td>\n",
       "      <td>Carmencita</td>\n",
       "      <td>US</td>\n",
       "      <td>NaN</td>\n",
       "      <td>imdbDisplay</td>\n",
       "      <td>NaN</td>\n",
       "      <td>0</td>\n",
       "    </tr>\n",
       "    <tr>\n",
       "      <th>1</th>\n",
       "      <td>tt0000002</td>\n",
       "      <td>7</td>\n",
       "      <td>The Clown and His Dogs</td>\n",
       "      <td>US</td>\n",
       "      <td>NaN</td>\n",
       "      <td>NaN</td>\n",
       "      <td>literal English title</td>\n",
       "      <td>0</td>\n",
       "    </tr>\n",
       "    <tr>\n",
       "      <th>2</th>\n",
       "      <td>tt0000005</td>\n",
       "      <td>10</td>\n",
       "      <td>Blacksmith Scene</td>\n",
       "      <td>US</td>\n",
       "      <td>NaN</td>\n",
       "      <td>imdbDisplay</td>\n",
       "      <td>NaN</td>\n",
       "      <td>0</td>\n",
       "    </tr>\n",
       "    <tr>\n",
       "      <th>3</th>\n",
       "      <td>tt0000005</td>\n",
       "      <td>1</td>\n",
       "      <td>Blacksmithing Scene</td>\n",
       "      <td>US</td>\n",
       "      <td>NaN</td>\n",
       "      <td>alternative</td>\n",
       "      <td>NaN</td>\n",
       "      <td>0</td>\n",
       "    </tr>\n",
       "    <tr>\n",
       "      <th>4</th>\n",
       "      <td>tt0000005</td>\n",
       "      <td>6</td>\n",
       "      <td>Blacksmith Scene #1</td>\n",
       "      <td>US</td>\n",
       "      <td>NaN</td>\n",
       "      <td>alternative</td>\n",
       "      <td>NaN</td>\n",
       "      <td>0</td>\n",
       "    </tr>\n",
       "  </tbody>\n",
       "</table>\n",
       "</div>"
      ],
      "text/plain": [
       "     titleId  ordering                   title region language        types  \\\n",
       "0  tt0000001         6              Carmencita     US      NaN  imdbDisplay   \n",
       "1  tt0000002         7  The Clown and His Dogs     US      NaN          NaN   \n",
       "2  tt0000005        10        Blacksmith Scene     US      NaN  imdbDisplay   \n",
       "3  tt0000005         1     Blacksmithing Scene     US      NaN  alternative   \n",
       "4  tt0000005         6     Blacksmith Scene #1     US      NaN  alternative   \n",
       "\n",
       "              attributes isOriginalTitle  \n",
       "0                    NaN               0  \n",
       "1  literal English title               0  \n",
       "2                    NaN               0  \n",
       "3                    NaN               0  \n",
       "4                    NaN               0  "
      ]
     },
     "execution_count": 8,
     "metadata": {},
     "output_type": "execute_result"
    }
   ],
   "source": [
    "# Confirm changes made are permanent\n",
    "akas.head()"
   ]
  },
  {
   "cell_type": "markdown",
   "id": "60e4b7e2",
   "metadata": {},
   "source": [
    "### Title Basics:\n",
    " - Keep only US movies (Use AKAs table, see \"Filtering one dataframe based on another\" section below)\n",
    " - Replace \"\\N\" with np.nan\n",
    " - Eliminate movies that are null for runtimeMinutes\n",
    " - Eliminate movies that are null for genre\n",
    " - keep only titleType==Movie\n",
    " - Convert the startYear column to float data type.\n",
    " - Filter the dataframe using startYear. Keep years between 2000-2021 (Including 2000 and 2021)\n",
    " - Eliminate movies that include \"Documentary\" in the genre (see tip below)."
   ]
  },
  {
   "cell_type": "code",
   "execution_count": 11,
   "id": "2b66ac58",
   "metadata": {},
   "outputs": [
    {
     "data": {
      "text/plain": [
       "0            True\n",
       "1            True\n",
       "2           False\n",
       "3           False\n",
       "4            True\n",
       "            ...  \n",
       "10064698    False\n",
       "10064699    False\n",
       "10064700    False\n",
       "10064701    False\n",
       "10064702    False\n",
       "Name: tconst, Length: 10064703, dtype: bool"
      ]
     },
     "execution_count": 11,
     "metadata": {},
     "output_type": "execute_result"
    }
   ],
   "source": [
    "# Keep only US movies\n",
    "keepers = basics['tconst'].isin(akas['titleId'])\n",
    "keepers"
   ]
  },
  {
   "cell_type": "code",
   "execution_count": 12,
   "id": "0eb130ec",
   "metadata": {},
   "outputs": [],
   "source": [
    "# Filter the basics table down to only include the US by using the filter akas dataframe\n",
    "basics = basics[keepers]"
   ]
  },
  {
   "cell_type": "code",
   "execution_count": 13,
   "id": "967b4c5c",
   "metadata": {},
   "outputs": [
    {
     "data": {
      "text/html": [
       "<div>\n",
       "<style scoped>\n",
       "    .dataframe tbody tr th:only-of-type {\n",
       "        vertical-align: middle;\n",
       "    }\n",
       "\n",
       "    .dataframe tbody tr th {\n",
       "        vertical-align: top;\n",
       "    }\n",
       "\n",
       "    .dataframe thead th {\n",
       "        text-align: right;\n",
       "    }\n",
       "</style>\n",
       "<table border=\"1\" class=\"dataframe\">\n",
       "  <thead>\n",
       "    <tr style=\"text-align: right;\">\n",
       "      <th></th>\n",
       "      <th>tconst</th>\n",
       "      <th>titleType</th>\n",
       "      <th>primaryTitle</th>\n",
       "      <th>originalTitle</th>\n",
       "      <th>isAdult</th>\n",
       "      <th>startYear</th>\n",
       "      <th>endYear</th>\n",
       "      <th>runtimeMinutes</th>\n",
       "      <th>genres</th>\n",
       "    </tr>\n",
       "  </thead>\n",
       "  <tbody>\n",
       "    <tr>\n",
       "      <th>0</th>\n",
       "      <td>tt0000001</td>\n",
       "      <td>short</td>\n",
       "      <td>Carmencita</td>\n",
       "      <td>Carmencita</td>\n",
       "      <td>0</td>\n",
       "      <td>1894</td>\n",
       "      <td>NaN</td>\n",
       "      <td>1</td>\n",
       "      <td>Documentary,Short</td>\n",
       "    </tr>\n",
       "    <tr>\n",
       "      <th>1</th>\n",
       "      <td>tt0000002</td>\n",
       "      <td>short</td>\n",
       "      <td>Le clown et ses chiens</td>\n",
       "      <td>Le clown et ses chiens</td>\n",
       "      <td>0</td>\n",
       "      <td>1892</td>\n",
       "      <td>NaN</td>\n",
       "      <td>5</td>\n",
       "      <td>Animation,Short</td>\n",
       "    </tr>\n",
       "    <tr>\n",
       "      <th>4</th>\n",
       "      <td>tt0000005</td>\n",
       "      <td>short</td>\n",
       "      <td>Blacksmith Scene</td>\n",
       "      <td>Blacksmith Scene</td>\n",
       "      <td>0</td>\n",
       "      <td>1893</td>\n",
       "      <td>NaN</td>\n",
       "      <td>1</td>\n",
       "      <td>Comedy,Short</td>\n",
       "    </tr>\n",
       "    <tr>\n",
       "      <th>5</th>\n",
       "      <td>tt0000006</td>\n",
       "      <td>short</td>\n",
       "      <td>Chinese Opium Den</td>\n",
       "      <td>Chinese Opium Den</td>\n",
       "      <td>0</td>\n",
       "      <td>1894</td>\n",
       "      <td>NaN</td>\n",
       "      <td>1</td>\n",
       "      <td>Short</td>\n",
       "    </tr>\n",
       "    <tr>\n",
       "      <th>6</th>\n",
       "      <td>tt0000007</td>\n",
       "      <td>short</td>\n",
       "      <td>Corbett and Courtney Before the Kinetograph</td>\n",
       "      <td>Corbett and Courtney Before the Kinetograph</td>\n",
       "      <td>0</td>\n",
       "      <td>1894</td>\n",
       "      <td>NaN</td>\n",
       "      <td>1</td>\n",
       "      <td>Short,Sport</td>\n",
       "    </tr>\n",
       "  </tbody>\n",
       "</table>\n",
       "</div>"
      ],
      "text/plain": [
       "      tconst titleType                                 primaryTitle  \\\n",
       "0  tt0000001     short                                   Carmencita   \n",
       "1  tt0000002     short                       Le clown et ses chiens   \n",
       "4  tt0000005     short                             Blacksmith Scene   \n",
       "5  tt0000006     short                            Chinese Opium Den   \n",
       "6  tt0000007     short  Corbett and Courtney Before the Kinetograph   \n",
       "\n",
       "                                 originalTitle isAdult startYear endYear  \\\n",
       "0                                   Carmencita       0      1894     NaN   \n",
       "1                       Le clown et ses chiens       0      1892     NaN   \n",
       "4                             Blacksmith Scene       0      1893     NaN   \n",
       "5                            Chinese Opium Den       0      1894     NaN   \n",
       "6  Corbett and Courtney Before the Kinetograph       0      1894     NaN   \n",
       "\n",
       "  runtimeMinutes             genres  \n",
       "0              1  Documentary,Short  \n",
       "1              5    Animation,Short  \n",
       "4              1       Comedy,Short  \n",
       "5              1              Short  \n",
       "6              1        Short,Sport  "
      ]
     },
     "execution_count": 13,
     "metadata": {},
     "output_type": "execute_result"
    }
   ],
   "source": [
    "# Replace \"\\N\" with np.nan\n",
    "basics.replace({'\\\\N':np.nan}, inplace=True)\n",
    "basics.head()"
   ]
  },
  {
   "cell_type": "code",
   "execution_count": 14,
   "id": "b3c0adb1",
   "metadata": {},
   "outputs": [],
   "source": [
    "# Eliminate movies that are null for the 'runtimeMinutes' and 'genres' columns\n",
    "basics = basics.dropna(subset=['runtimeMinutes', 'genres'])"
   ]
  },
  {
   "cell_type": "code",
   "execution_count": 15,
   "id": "82ce195d",
   "metadata": {},
   "outputs": [
    {
     "data": {
      "text/plain": [
       "short           278441\n",
       "movie           203635\n",
       "tvEpisode       173936\n",
       "video           115674\n",
       "tvSeries         36847\n",
       "tvMovie          25959\n",
       "tvSpecial         9295\n",
       "tvMiniSeries      5900\n",
       "tvShort           4100\n",
       "videoGame          194\n",
       "Name: titleType, dtype: int64"
      ]
     },
     "execution_count": 15,
     "metadata": {},
     "output_type": "execute_result"
    }
   ],
   "source": [
    "# Check value counts of 'titleType' column\n",
    "basics['titleType'].value_counts()"
   ]
  },
  {
   "cell_type": "code",
   "execution_count": 16,
   "id": "92788222",
   "metadata": {},
   "outputs": [],
   "source": [
    "# Keep only titleType == movie\n",
    "basics = basics[basics['titleType'] == \"movie\"]"
   ]
  },
  {
   "cell_type": "code",
   "execution_count": 17,
   "id": "8ae25ccf",
   "metadata": {},
   "outputs": [],
   "source": [
    "# Convert the startYear column to float data type\n",
    "basics['startYear'] = basics['startYear'].astype(float)"
   ]
  },
  {
   "cell_type": "code",
   "execution_count": 18,
   "id": "68cc7215",
   "metadata": {},
   "outputs": [
    {
     "name": "stdout",
     "output_type": "stream",
     "text": [
      "<class 'pandas.core.frame.DataFrame'>\n",
      "Int64Index: 203635 entries, 8 to 10064469\n",
      "Data columns (total 9 columns):\n",
      " #   Column          Non-Null Count   Dtype  \n",
      "---  ------          --------------   -----  \n",
      " 0   tconst          203635 non-null  object \n",
      " 1   titleType       203635 non-null  object \n",
      " 2   primaryTitle    203635 non-null  object \n",
      " 3   originalTitle   203635 non-null  object \n",
      " 4   isAdult         203635 non-null  object \n",
      " 5   startYear       200097 non-null  float64\n",
      " 6   endYear         0 non-null       object \n",
      " 7   runtimeMinutes  203635 non-null  object \n",
      " 8   genres          203635 non-null  object \n",
      "dtypes: float64(1), object(8)\n",
      "memory usage: 15.5+ MB\n"
     ]
    }
   ],
   "source": [
    "basics.info()"
   ]
  },
  {
   "cell_type": "code",
   "execution_count": 21,
   "id": "ec876dbe",
   "metadata": {},
   "outputs": [],
   "source": [
    "# Filter dataf]rame using 'startYear' column\n",
    "basics = basics.loc[(basics['startYear'] >= 2000.0)\n",
    "                   & (basics['startYear'] <= 2021.0)]"
   ]
  },
  {
   "cell_type": "code",
   "execution_count": 22,
   "id": "f95c5515",
   "metadata": {},
   "outputs": [],
   "source": [
    "# Exclude movies that are included in the documentary category.\n",
    "is_documentary = basics['genres'].str.contains('documentary',case=False)\n",
    "basics = basics[~is_documentary]"
   ]
  },
  {
   "cell_type": "markdown",
   "id": "c2c42c98",
   "metadata": {},
   "source": [
    "### Ratings:\n",
    "- Keep only movies that were included in your final title basics dataframe above.\n",
    "(Use AKAs table, see \"Filtering one dataframe based on another\" section below)\n",
    "- Replace \"\\N\" with np.nan (if any)"
   ]
  },
  {
   "cell_type": "code",
   "execution_count": 26,
   "id": "c0d3c01b",
   "metadata": {},
   "outputs": [
    {
     "data": {
      "text/plain": [
       "0           True\n",
       "1           True\n",
       "2          False\n",
       "3          False\n",
       "4           True\n",
       "           ...  \n",
       "1333574    False\n",
       "1333575    False\n",
       "1333576    False\n",
       "1333577    False\n",
       "1333578    False\n",
       "Name: tconst, Length: 1333579, dtype: bool"
      ]
     },
     "execution_count": 26,
     "metadata": {},
     "output_type": "execute_result"
    }
   ],
   "source": [
    "# Filter dataframe using 'akas' dataframe\n",
    "keep = ratings['tconst'].isin(akas['titleId'])\n",
    "keep"
   ]
  },
  {
   "cell_type": "code",
   "execution_count": 27,
   "id": "15d998e5",
   "metadata": {},
   "outputs": [],
   "source": [
    "# Filter dataframe\n",
    "ratings = ratings[keep]"
   ]
  },
  {
   "cell_type": "code",
   "execution_count": 28,
   "id": "044264e9",
   "metadata": {},
   "outputs": [
    {
     "data": {
      "text/html": [
       "<div>\n",
       "<style scoped>\n",
       "    .dataframe tbody tr th:only-of-type {\n",
       "        vertical-align: middle;\n",
       "    }\n",
       "\n",
       "    .dataframe tbody tr th {\n",
       "        vertical-align: top;\n",
       "    }\n",
       "\n",
       "    .dataframe thead th {\n",
       "        text-align: right;\n",
       "    }\n",
       "</style>\n",
       "<table border=\"1\" class=\"dataframe\">\n",
       "  <thead>\n",
       "    <tr style=\"text-align: right;\">\n",
       "      <th></th>\n",
       "      <th>tconst</th>\n",
       "      <th>averageRating</th>\n",
       "      <th>numVotes</th>\n",
       "    </tr>\n",
       "  </thead>\n",
       "  <tbody>\n",
       "    <tr>\n",
       "      <th>0</th>\n",
       "      <td>tt0000001</td>\n",
       "      <td>5.7</td>\n",
       "      <td>1989</td>\n",
       "    </tr>\n",
       "    <tr>\n",
       "      <th>1</th>\n",
       "      <td>tt0000002</td>\n",
       "      <td>5.8</td>\n",
       "      <td>265</td>\n",
       "    </tr>\n",
       "    <tr>\n",
       "      <th>4</th>\n",
       "      <td>tt0000005</td>\n",
       "      <td>6.2</td>\n",
       "      <td>2635</td>\n",
       "    </tr>\n",
       "    <tr>\n",
       "      <th>5</th>\n",
       "      <td>tt0000006</td>\n",
       "      <td>5.0</td>\n",
       "      <td>183</td>\n",
       "    </tr>\n",
       "    <tr>\n",
       "      <th>6</th>\n",
       "      <td>tt0000007</td>\n",
       "      <td>5.4</td>\n",
       "      <td>825</td>\n",
       "    </tr>\n",
       "    <tr>\n",
       "      <th>...</th>\n",
       "      <td>...</td>\n",
       "      <td>...</td>\n",
       "      <td>...</td>\n",
       "    </tr>\n",
       "    <tr>\n",
       "      <th>1333540</th>\n",
       "      <td>tt9916200</td>\n",
       "      <td>8.1</td>\n",
       "      <td>232</td>\n",
       "    </tr>\n",
       "    <tr>\n",
       "      <th>1333541</th>\n",
       "      <td>tt9916204</td>\n",
       "      <td>8.2</td>\n",
       "      <td>266</td>\n",
       "    </tr>\n",
       "    <tr>\n",
       "      <th>1333548</th>\n",
       "      <td>tt9916348</td>\n",
       "      <td>8.3</td>\n",
       "      <td>18</td>\n",
       "    </tr>\n",
       "    <tr>\n",
       "      <th>1333549</th>\n",
       "      <td>tt9916362</td>\n",
       "      <td>6.4</td>\n",
       "      <td>5442</td>\n",
       "    </tr>\n",
       "    <tr>\n",
       "      <th>1333554</th>\n",
       "      <td>tt9916428</td>\n",
       "      <td>3.8</td>\n",
       "      <td>14</td>\n",
       "    </tr>\n",
       "  </tbody>\n",
       "</table>\n",
       "<p>504060 rows × 3 columns</p>\n",
       "</div>"
      ],
      "text/plain": [
       "            tconst  averageRating  numVotes\n",
       "0        tt0000001            5.7      1989\n",
       "1        tt0000002            5.8       265\n",
       "4        tt0000005            6.2      2635\n",
       "5        tt0000006            5.0       183\n",
       "6        tt0000007            5.4       825\n",
       "...            ...            ...       ...\n",
       "1333540  tt9916200            8.1       232\n",
       "1333541  tt9916204            8.2       266\n",
       "1333548  tt9916348            8.3        18\n",
       "1333549  tt9916362            6.4      5442\n",
       "1333554  tt9916428            3.8        14\n",
       "\n",
       "[504060 rows x 3 columns]"
      ]
     },
     "execution_count": 28,
     "metadata": {},
     "output_type": "execute_result"
    }
   ],
   "source": [
    "# Replace \"\\N\" with np.nan\n",
    "ratings.replace({'\\\\N':np.nan}, inplace=True)\n",
    "ratings"
   ]
  },
  {
   "cell_type": "markdown",
   "id": "82f4d25f",
   "metadata": {},
   "source": [
    "## Final DataFrame Tests:"
   ]
  },
  {
   "cell_type": "code",
   "execution_count": 23,
   "id": "1a4d972c",
   "metadata": {},
   "outputs": [
    {
     "data": {
      "text/html": [
       "<div>\n",
       "<style scoped>\n",
       "    .dataframe tbody tr th:only-of-type {\n",
       "        vertical-align: middle;\n",
       "    }\n",
       "\n",
       "    .dataframe tbody tr th {\n",
       "        vertical-align: top;\n",
       "    }\n",
       "\n",
       "    .dataframe thead th {\n",
       "        text-align: right;\n",
       "    }\n",
       "</style>\n",
       "<table border=\"1\" class=\"dataframe\">\n",
       "  <thead>\n",
       "    <tr style=\"text-align: right;\">\n",
       "      <th></th>\n",
       "      <th>titleId</th>\n",
       "      <th>ordering</th>\n",
       "      <th>title</th>\n",
       "      <th>region</th>\n",
       "      <th>language</th>\n",
       "      <th>types</th>\n",
       "      <th>attributes</th>\n",
       "      <th>isOriginalTitle</th>\n",
       "    </tr>\n",
       "  </thead>\n",
       "  <tbody>\n",
       "    <tr>\n",
       "      <th>0</th>\n",
       "      <td>tt0000001</td>\n",
       "      <td>6</td>\n",
       "      <td>Carmencita</td>\n",
       "      <td>US</td>\n",
       "      <td>NaN</td>\n",
       "      <td>imdbDisplay</td>\n",
       "      <td>NaN</td>\n",
       "      <td>0</td>\n",
       "    </tr>\n",
       "    <tr>\n",
       "      <th>1</th>\n",
       "      <td>tt0000002</td>\n",
       "      <td>7</td>\n",
       "      <td>The Clown and His Dogs</td>\n",
       "      <td>US</td>\n",
       "      <td>NaN</td>\n",
       "      <td>NaN</td>\n",
       "      <td>literal English title</td>\n",
       "      <td>0</td>\n",
       "    </tr>\n",
       "    <tr>\n",
       "      <th>2</th>\n",
       "      <td>tt0000005</td>\n",
       "      <td>10</td>\n",
       "      <td>Blacksmith Scene</td>\n",
       "      <td>US</td>\n",
       "      <td>NaN</td>\n",
       "      <td>imdbDisplay</td>\n",
       "      <td>NaN</td>\n",
       "      <td>0</td>\n",
       "    </tr>\n",
       "    <tr>\n",
       "      <th>3</th>\n",
       "      <td>tt0000005</td>\n",
       "      <td>1</td>\n",
       "      <td>Blacksmithing Scene</td>\n",
       "      <td>US</td>\n",
       "      <td>NaN</td>\n",
       "      <td>alternative</td>\n",
       "      <td>NaN</td>\n",
       "      <td>0</td>\n",
       "    </tr>\n",
       "    <tr>\n",
       "      <th>4</th>\n",
       "      <td>tt0000005</td>\n",
       "      <td>6</td>\n",
       "      <td>Blacksmith Scene #1</td>\n",
       "      <td>US</td>\n",
       "      <td>NaN</td>\n",
       "      <td>alternative</td>\n",
       "      <td>NaN</td>\n",
       "      <td>0</td>\n",
       "    </tr>\n",
       "  </tbody>\n",
       "</table>\n",
       "</div>"
      ],
      "text/plain": [
       "     titleId  ordering                   title region language        types  \\\n",
       "0  tt0000001         6              Carmencita     US      NaN  imdbDisplay   \n",
       "1  tt0000002         7  The Clown and His Dogs     US      NaN          NaN   \n",
       "2  tt0000005        10        Blacksmith Scene     US      NaN  imdbDisplay   \n",
       "3  tt0000005         1     Blacksmithing Scene     US      NaN  alternative   \n",
       "4  tt0000005         6     Blacksmith Scene #1     US      NaN  alternative   \n",
       "\n",
       "              attributes isOriginalTitle  \n",
       "0                    NaN               0  \n",
       "1  literal English title               0  \n",
       "2                    NaN               0  \n",
       "3                    NaN               0  \n",
       "4                    NaN               0  "
      ]
     },
     "execution_count": 23,
     "metadata": {},
     "output_type": "execute_result"
    }
   ],
   "source": [
    "# Final test of new 'akas' dataframe\n",
    "akas.head()"
   ]
  },
  {
   "cell_type": "code",
   "execution_count": 10,
   "id": "3370523a",
   "metadata": {},
   "outputs": [
    {
     "name": "stdout",
     "output_type": "stream",
     "text": [
      "<class 'pandas.core.frame.DataFrame'>\n",
      "RangeIndex: 1452564 entries, 0 to 1452563\n",
      "Data columns (total 8 columns):\n",
      " #   Column           Non-Null Count    Dtype \n",
      "---  ------           --------------    ----- \n",
      " 0   titleId          1452564 non-null  object\n",
      " 1   ordering         1452564 non-null  int64 \n",
      " 2   title            1452564 non-null  object\n",
      " 3   region           1452564 non-null  object\n",
      " 4   language         4018 non-null     object\n",
      " 5   types            981678 non-null   object\n",
      " 6   attributes       47016 non-null    object\n",
      " 7   isOriginalTitle  1451222 non-null  object\n",
      "dtypes: int64(1), object(7)\n",
      "memory usage: 88.7+ MB\n"
     ]
    }
   ],
   "source": [
    "akas.info()"
   ]
  },
  {
   "cell_type": "code",
   "execution_count": 24,
   "id": "aa0fe58c",
   "metadata": {},
   "outputs": [
    {
     "data": {
      "text/html": [
       "<div>\n",
       "<style scoped>\n",
       "    .dataframe tbody tr th:only-of-type {\n",
       "        vertical-align: middle;\n",
       "    }\n",
       "\n",
       "    .dataframe tbody tr th {\n",
       "        vertical-align: top;\n",
       "    }\n",
       "\n",
       "    .dataframe thead th {\n",
       "        text-align: right;\n",
       "    }\n",
       "</style>\n",
       "<table border=\"1\" class=\"dataframe\">\n",
       "  <thead>\n",
       "    <tr style=\"text-align: right;\">\n",
       "      <th></th>\n",
       "      <th>tconst</th>\n",
       "      <th>titleType</th>\n",
       "      <th>primaryTitle</th>\n",
       "      <th>originalTitle</th>\n",
       "      <th>isAdult</th>\n",
       "      <th>startYear</th>\n",
       "      <th>endYear</th>\n",
       "      <th>runtimeMinutes</th>\n",
       "      <th>genres</th>\n",
       "    </tr>\n",
       "  </thead>\n",
       "  <tbody>\n",
       "    <tr>\n",
       "      <th>34801</th>\n",
       "      <td>tt0035423</td>\n",
       "      <td>movie</td>\n",
       "      <td>Kate &amp; Leopold</td>\n",
       "      <td>Kate &amp; Leopold</td>\n",
       "      <td>0</td>\n",
       "      <td>2001.0</td>\n",
       "      <td>NaN</td>\n",
       "      <td>118</td>\n",
       "      <td>Comedy,Fantasy,Romance</td>\n",
       "    </tr>\n",
       "    <tr>\n",
       "      <th>61113</th>\n",
       "      <td>tt0062336</td>\n",
       "      <td>movie</td>\n",
       "      <td>The Tango of the Widower and Its Distorting Mi...</td>\n",
       "      <td>El tango del viudo y su espejo deformante</td>\n",
       "      <td>0</td>\n",
       "      <td>2020.0</td>\n",
       "      <td>NaN</td>\n",
       "      <td>70</td>\n",
       "      <td>Drama</td>\n",
       "    </tr>\n",
       "    <tr>\n",
       "      <th>67487</th>\n",
       "      <td>tt0068865</td>\n",
       "      <td>movie</td>\n",
       "      <td>Lives of Performers</td>\n",
       "      <td>Lives of Performers</td>\n",
       "      <td>0</td>\n",
       "      <td>2016.0</td>\n",
       "      <td>NaN</td>\n",
       "      <td>90</td>\n",
       "      <td>Drama</td>\n",
       "    </tr>\n",
       "    <tr>\n",
       "      <th>67665</th>\n",
       "      <td>tt0069049</td>\n",
       "      <td>movie</td>\n",
       "      <td>The Other Side of the Wind</td>\n",
       "      <td>The Other Side of the Wind</td>\n",
       "      <td>0</td>\n",
       "      <td>2018.0</td>\n",
       "      <td>NaN</td>\n",
       "      <td>122</td>\n",
       "      <td>Drama</td>\n",
       "    </tr>\n",
       "    <tr>\n",
       "      <th>86792</th>\n",
       "      <td>tt0088751</td>\n",
       "      <td>movie</td>\n",
       "      <td>The Naked Monster</td>\n",
       "      <td>The Naked Monster</td>\n",
       "      <td>0</td>\n",
       "      <td>2005.0</td>\n",
       "      <td>NaN</td>\n",
       "      <td>100</td>\n",
       "      <td>Comedy,Horror,Sci-Fi</td>\n",
       "    </tr>\n",
       "  </tbody>\n",
       "</table>\n",
       "</div>"
      ],
      "text/plain": [
       "          tconst titleType                                       primaryTitle  \\\n",
       "34801  tt0035423     movie                                     Kate & Leopold   \n",
       "61113  tt0062336     movie  The Tango of the Widower and Its Distorting Mi...   \n",
       "67487  tt0068865     movie                                Lives of Performers   \n",
       "67665  tt0069049     movie                         The Other Side of the Wind   \n",
       "86792  tt0088751     movie                                  The Naked Monster   \n",
       "\n",
       "                                   originalTitle isAdult  startYear endYear  \\\n",
       "34801                             Kate & Leopold       0     2001.0     NaN   \n",
       "61113  El tango del viudo y su espejo deformante       0     2020.0     NaN   \n",
       "67487                        Lives of Performers       0     2016.0     NaN   \n",
       "67665                 The Other Side of the Wind       0     2018.0     NaN   \n",
       "86792                          The Naked Monster       0     2005.0     NaN   \n",
       "\n",
       "      runtimeMinutes                  genres  \n",
       "34801            118  Comedy,Fantasy,Romance  \n",
       "61113             70                   Drama  \n",
       "67487             90                   Drama  \n",
       "67665            122                   Drama  \n",
       "86792            100    Comedy,Horror,Sci-Fi  "
      ]
     },
     "execution_count": 24,
     "metadata": {},
     "output_type": "execute_result"
    }
   ],
   "source": [
    "# Final test of new 'basics' dataframe\n",
    "basics.head()"
   ]
  },
  {
   "cell_type": "code",
   "execution_count": 25,
   "id": "98315893",
   "metadata": {},
   "outputs": [
    {
     "name": "stdout",
     "output_type": "stream",
     "text": [
      "<class 'pandas.core.frame.DataFrame'>\n",
      "Int64Index: 81900 entries, 34801 to 10064469\n",
      "Data columns (total 9 columns):\n",
      " #   Column          Non-Null Count  Dtype  \n",
      "---  ------          --------------  -----  \n",
      " 0   tconst          81900 non-null  object \n",
      " 1   titleType       81900 non-null  object \n",
      " 2   primaryTitle    81900 non-null  object \n",
      " 3   originalTitle   81900 non-null  object \n",
      " 4   isAdult         81900 non-null  object \n",
      " 5   startYear       81900 non-null  float64\n",
      " 6   endYear         0 non-null      object \n",
      " 7   runtimeMinutes  81900 non-null  object \n",
      " 8   genres          81900 non-null  object \n",
      "dtypes: float64(1), object(8)\n",
      "memory usage: 6.2+ MB\n"
     ]
    }
   ],
   "source": [
    "basics.info()"
   ]
  },
  {
   "cell_type": "code",
   "execution_count": 29,
   "id": "337ea2c3",
   "metadata": {},
   "outputs": [
    {
     "data": {
      "text/html": [
       "<div>\n",
       "<style scoped>\n",
       "    .dataframe tbody tr th:only-of-type {\n",
       "        vertical-align: middle;\n",
       "    }\n",
       "\n",
       "    .dataframe tbody tr th {\n",
       "        vertical-align: top;\n",
       "    }\n",
       "\n",
       "    .dataframe thead th {\n",
       "        text-align: right;\n",
       "    }\n",
       "</style>\n",
       "<table border=\"1\" class=\"dataframe\">\n",
       "  <thead>\n",
       "    <tr style=\"text-align: right;\">\n",
       "      <th></th>\n",
       "      <th>tconst</th>\n",
       "      <th>averageRating</th>\n",
       "      <th>numVotes</th>\n",
       "    </tr>\n",
       "  </thead>\n",
       "  <tbody>\n",
       "    <tr>\n",
       "      <th>0</th>\n",
       "      <td>tt0000001</td>\n",
       "      <td>5.7</td>\n",
       "      <td>1989</td>\n",
       "    </tr>\n",
       "    <tr>\n",
       "      <th>1</th>\n",
       "      <td>tt0000002</td>\n",
       "      <td>5.8</td>\n",
       "      <td>265</td>\n",
       "    </tr>\n",
       "    <tr>\n",
       "      <th>4</th>\n",
       "      <td>tt0000005</td>\n",
       "      <td>6.2</td>\n",
       "      <td>2635</td>\n",
       "    </tr>\n",
       "    <tr>\n",
       "      <th>5</th>\n",
       "      <td>tt0000006</td>\n",
       "      <td>5.0</td>\n",
       "      <td>183</td>\n",
       "    </tr>\n",
       "    <tr>\n",
       "      <th>6</th>\n",
       "      <td>tt0000007</td>\n",
       "      <td>5.4</td>\n",
       "      <td>825</td>\n",
       "    </tr>\n",
       "  </tbody>\n",
       "</table>\n",
       "</div>"
      ],
      "text/plain": [
       "      tconst  averageRating  numVotes\n",
       "0  tt0000001            5.7      1989\n",
       "1  tt0000002            5.8       265\n",
       "4  tt0000005            6.2      2635\n",
       "5  tt0000006            5.0       183\n",
       "6  tt0000007            5.4       825"
      ]
     },
     "execution_count": 29,
     "metadata": {},
     "output_type": "execute_result"
    }
   ],
   "source": [
    "# Final test of new 'ratings' dataframe\n",
    "ratings.head()"
   ]
  },
  {
   "cell_type": "code",
   "execution_count": 30,
   "id": "2c043050",
   "metadata": {},
   "outputs": [
    {
     "name": "stdout",
     "output_type": "stream",
     "text": [
      "<class 'pandas.core.frame.DataFrame'>\n",
      "Int64Index: 504060 entries, 0 to 1333554\n",
      "Data columns (total 3 columns):\n",
      " #   Column         Non-Null Count   Dtype  \n",
      "---  ------         --------------   -----  \n",
      " 0   tconst         504060 non-null  object \n",
      " 1   averageRating  504060 non-null  float64\n",
      " 2   numVotes       504060 non-null  int64  \n",
      "dtypes: float64(1), int64(1), object(1)\n",
      "memory usage: 15.4+ MB\n"
     ]
    }
   ],
   "source": [
    "ratings.info()"
   ]
  },
  {
   "cell_type": "markdown",
   "id": "e5cbb005",
   "metadata": {},
   "source": [
    "## Save New Filtered DataFrames to Data Folder"
   ]
  },
  {
   "cell_type": "code",
   "execution_count": 31,
   "id": "1ab77e66",
   "metadata": {},
   "outputs": [],
   "source": [
    "# Save new dataframe to 'Data' folder.\n",
    "akas.to_csv(\"Data/title_akas.csv.gz\", compression='gzip', index=False)"
   ]
  },
  {
   "cell_type": "code",
   "execution_count": 32,
   "id": "00e40e7e",
   "metadata": {},
   "outputs": [],
   "source": [
    "# Save new dataframe to 'Data' folder.\n",
    "basics.to_csv(\"Data/title_basics.csv.gz\", compression='gzip', index=False)"
   ]
  },
  {
   "cell_type": "code",
   "execution_count": 33,
   "id": "75176b1f",
   "metadata": {},
   "outputs": [],
   "source": [
    "# Save new dataframe to 'Data' folder.\n",
    "ratings.to_csv(\"Data/title_ratings.csv.gz\", compression='gzip', index=False)"
   ]
  },
  {
   "attachments": {
    "blue_square_1-5bdc75aaebeb75dc7ae79426ddd9be3b2be1e342510f8202baf6bffa71d7f5c4.svg": {
     "image/svg+xml": [
      "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"
     ]
    }
   },
   "cell_type": "markdown",
   "id": "85671dd6",
   "metadata": {},
   "source": [
    "### IMDB Data Sources:\n",
    "- Downloads Page - https://developer.imdb.com/non-commercial-datasets/\n",
    "- Data Dictionary - https://developer.imdb.com/non-commercial-datasets/\n",
    "- IMDB Logo - https://www.themoviedb.org/about/logos-attribution\n",
    "\n",
    "![blue_square_1-5bdc75aaebeb75dc7ae79426ddd9be3b2be1e342510f8202baf6bffa71d7f5c4.svg](attachment:blue_square_1-5bdc75aaebeb75dc7ae79426ddd9be3b2be1e342510f8202baf6bffa71d7f5c4.svg)"
   ]
  }
 ],
 "metadata": {
  "kernelspec": {
   "display_name": "Python 3 (ipykernel)",
   "language": "python",
   "name": "python3"
  },
  "language_info": {
   "codemirror_mode": {
    "name": "ipython",
    "version": 3
   },
   "file_extension": ".py",
   "mimetype": "text/x-python",
   "name": "python",
   "nbconvert_exporter": "python",
   "pygments_lexer": "ipython3",
   "version": "3.9.15"
  },
  "toc": {
   "base_numbering": 1,
   "nav_menu": {},
   "number_sections": false,
   "sideBar": true,
   "skip_h1_title": false,
   "title_cell": "Table of Contents",
   "title_sidebar": "Contents",
   "toc_cell": false,
   "toc_position": {},
   "toc_section_display": true,
   "toc_window_display": false
  }
 },
 "nbformat": 4,
 "nbformat_minor": 5
}
